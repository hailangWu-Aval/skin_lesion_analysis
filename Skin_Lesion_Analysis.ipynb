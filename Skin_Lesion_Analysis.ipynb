{
 "cells": [
  {
   "cell_type": "markdown",
   "metadata": {},
   "source": [
    "# Risk-Aware Machine Learning Classifier for Skin Lesion Diagnosis\n",
    "\n",
    "### Aryan Mobiny, Aditi Singh, Hien Van Nguyen, Journal of Clinical Medicine, 2019"
   ]
  },
  {
   "cell_type": "markdown",
   "metadata": {},
   "source": [
    "<img src=\"imgs/fig1.png\" width=\"5000\" height=\"100\" >"
   ]
  },
  {
   "cell_type": "markdown",
   "metadata": {},
   "source": [
    "# 0. Import the required packages"
   ]
  },
  {
   "cell_type": "code",
   "execution_count": 1,
   "metadata": {},
   "outputs": [
    {
     "name": "stderr",
     "output_type": "stream",
     "text": [
      "Using TensorFlow backend.\n"
     ]
    }
   ],
   "source": [
    "%matplotlib inline\n",
    "import warnings\n",
    "warnings.filterwarnings(\"ignore\")\n",
    "import os\n",
    "import h5py\n",
    "import numpy as np\n",
    "import seaborn as sns\n",
    "import matplotlib.pyplot as plt\n",
    "from keras import Model\n",
    "from models import backbone\n",
    "from py_utils import one_hot, softmax, uncertainty_fraction_removal, normalized_uncertainty_toleration_removal\n",
    "warnings.filterwarnings(\"ignore\")"
   ]
  },
  {
   "cell_type": "markdown",
   "metadata": {},
   "source": [
    "# 1. Load the data"
   ]
  },
  {
   "cell_type": "markdown",
   "metadata": {},
   "source": [
    "<img src=\"imgs/fig2.png\" width=\"500\" height=\"100\" >"
   ]
  },
  {
   "cell_type": "markdown",
   "metadata": {},
   "source": [
    "## skin lesion categories"
   ]
  },
  {
   "cell_type": "markdown",
   "metadata": {},
   "source": [
    "- Melanoma (MEL) \n",
    "- Melanocytic Nevi (NV) \n",
    "- Basal Cell Carcinoma (BCC) \n",
    "- Actinic Keratoses and Intraepithelial Carcinoma (AKIEC) \n",
    "- Benign Keratosis (BKL) \n",
    "- Dermatofibroma (DF) \n",
    "- Vascular (VASC) "
   ]
  },
  {
   "cell_type": "code",
   "execution_count": 2,
   "metadata": {},
   "outputs": [],
   "source": [
    "base_dir = os.getcwd()\n",
    "data_dir = os.path.join(base_dir, 'preprocessed_data.h5')\n",
    "h5f = h5py.File(data_dir, 'r')\n",
    "x_train = h5f['X_train'][:]\n",
    "y_train = one_hot(h5f['y_train'][:])\n",
    "x_valid = h5f['X_test'][:]\n",
    "y_valid = one_hot(h5f['y_test'][:])\n",
    "h5f.close()"
   ]
  },
  {
   "cell_type": "code",
   "execution_count": 3,
   "metadata": {},
   "outputs": [
    {
     "name": "stdout",
     "output_type": "stream",
     "text": [
      "Training images: (8010, 224, 224, 3)\n",
      "Training labels: (8010, 7)\n",
      "\n",
      "Validation images: (2005, 224, 224, 3)\n",
      "Validation labels: (2005, 7)\n"
     ]
    }
   ],
   "source": [
    "print('Training images: {}'.format(x_train.shape))\n",
    "print('Training labels: {}\\n'.format(y_train.shape))\n",
    "print('Validation images: {}'.format(x_valid.shape))\n",
    "print('Validation labels: {}'.format(y_valid.shape))"
   ]
  },
  {
   "cell_type": "markdown",
   "metadata": {},
   "source": [
    "# 2. Create the Model\n",
    "\n",
    "### DenseNet-169\n",
    "\n",
    "\n",
    "\n",
    "<img src=\"imgs/fig3.png\" width=\"800\" height=\"100\" >\n",
    "\n",
    "\n",
    "\n",
    "\n",
    "### In Keras:\n",
    "\n",
    "<img src=\"imgs/fig4.PNG\" width=\"800\" height=\"100\" >\n",
    "\n"
   ]
  },
  {
   "cell_type": "markdown",
   "metadata": {},
   "source": [
    "## 2.1. Model parameters"
   ]
  },
  {
   "cell_type": "code",
   "execution_count": 4,
   "metadata": {},
   "outputs": [],
   "source": [
    "backbone_name = 'densenet169'\n",
    "num_cls = 7\n",
    "dropout_rate = 0.5\n",
    "num_dense_layers = 1\n",
    "num_dense_units = 128\n",
    "pooling = 'avg'\n",
    "dense_layer_regularizer = 'L2'\n",
    "model_name = 'lesion_densenet169'\n",
    "lr = 1e-4"
   ]
  },
  {
   "cell_type": "code",
   "execution_count": 5,
   "metadata": {},
   "outputs": [],
   "source": [
    "save_dir = os.path.join(base_dir, 'default_save_dir')\n",
    "if not os.path.exists(save_dir):\n",
    "    os.mkdir(save_dir)"
   ]
  },
  {
   "cell_type": "code",
   "execution_count": null,
   "metadata": {},
   "outputs": [],
   "source": [
    "from models import backbone\n",
    "from misc_utils.eval_utils import compute_class_weights\n",
    "from callback import config_cls_callbacks\n",
    "\n",
    "callbacks = config_cls_callbacks()\n",
    "\n",
    "model = backbone(backbone_name).classification_model(input_shape=x_train.shape[1:],\n",
    "                                                     num_classes=num_cls,\n",
    "                                                     num_dense_layers=num_dense_layers,\n",
    "                                                     num_dense_units=num_dense_units,\n",
    "                                                     pooling=pooling,\n",
    "                                                     dropout_rate=dropout_rate,\n",
    "                                                     kernel_regularizer='L2',\n",
    "                                                     save_to=save_dir,\n",
    "                                                     print_model_summary=False,\n",
    "                                                     plot_model_summary=False,\n",
    "                                                     lr=lr)\n",
    "\n",
    "class_weights = compute_class_weights(y_train, wt_type='balanced')\n",
    "\n",
    "batch_size = 2\n",
    "\n",
    "model.fit(x=x_train,\n",
    "          y=y_train,\n",
    "          batch_size=batch_size,\n",
    "          epochs=1000,\n",
    "          verbose=1,\n",
    "          validation_data=(x_valid, y_valid),\n",
    "          class_weight=class_weights,\n",
    "          shuffle=True,\n",
    "          callbacks=callbacks)"
   ]
  },
  {
   "cell_type": "markdown",
   "metadata": {},
   "source": [
    "## 2.2. Start the Evaluation"
   ]
  },
  {
   "cell_type": "markdown",
   "metadata": {},
   "source": [
    "### 2.2.1. Normal Evaluation"
   ]
  },
  {
   "cell_type": "code",
   "execution_count": null,
   "metadata": {},
   "outputs": [],
   "source": [
    "# Don't run this; run the following cell to load the results\n",
    "model = backbone(backbone_name).classification_model(load_weights_from=model_name,\n",
    "                                                     num_classes=num_cls,\n",
    "                                                     num_dense_layers=num_dense_layers,\n",
    "                                                     num_dense_units=num_dense_units,\n",
    "                                                     dropout_rate=0.,\n",
    "                                                     pooling=pooling,\n",
    "                                                     kernel_regularizer=dense_layer_regularizer)\n",
    "\n",
    "y_pred = model.predict(x_valid)\n",
    "y_prob = softmax(y_pred)"
   ]
  },
  {
   "cell_type": "code",
   "execution_count": 6,
   "metadata": {},
   "outputs": [],
   "source": [
    "# Load from the saved file\n",
    "file_name = os.path.join(base_dir, 'predictions.h5')\n",
    "h5f = h5py.File(file_name, 'r')\n",
    "y_prob = h5f['y_prob'][:]\n",
    "h5f.close()"
   ]
  },
  {
   "cell_type": "markdown",
   "metadata": {},
   "source": [
    "### 2.2.2. MC-Evaluation"
   ]
  },
  {
   "cell_type": "code",
   "execution_count": 7,
   "metadata": {},
   "outputs": [],
   "source": [
    "monte_carlo_simulations = 10"
   ]
  },
  {
   "cell_type": "code",
   "execution_count": null,
   "metadata": {},
   "outputs": [],
   "source": [
    "# Don't run this; run the following cell to load the results\n",
    "model = backbone(backbone_name).classification_model(load_weights_from=model_name,\n",
    "                                                     num_classes=num_cls,\n",
    "                                                     num_dense_layers=num_dense_layers,\n",
    "                                                     num_dense_units=num_dense_units,\n",
    "                                                     pooling=pooling,\n",
    "                                                     dropout_rate=dropout_rate,\n",
    "                                                     kernel_regularizer=dense_layer_regularizer)\n",
    "\n",
    "y_prob_mc = np.zeros((monte_carlo_simulations, y_valid.shape[0], num_cls))\n",
    "\n",
    "for mc_iter in range(monte_carlo_simulations):\n",
    "    print('MC iteration #{}'.format(mc_iter))\n",
    "    y_prob_mc[mc_iter] = model.predict(x_valid)\n",
    "    "
   ]
  },
  {
   "cell_type": "code",
   "execution_count": 8,
   "metadata": {},
   "outputs": [],
   "source": [
    "# Load from the saved array (instead of running the above loop)\n",
    "file_name = os.path.join(base_dir, 'MC_predictions.h5')\n",
    "h5f = h5py.File(file_name, 'r')\n",
    "y_prob_mc = h5f['y_prob'][:]\n",
    "h5f.close()"
   ]
  },
  {
   "cell_type": "markdown",
   "metadata": {},
   "source": [
    "#### - Compute the predictions"
   ]
  },
  {
   "cell_type": "code",
   "execution_count": 9,
   "metadata": {},
   "outputs": [
    {
     "data": {
      "text/latex": [
       "$$\\mu_{pred} \\approx \\frac{1}{T}\\sum_{t=1}^T p(y^*|\\mathbf{x}^*, \\hat{\\mathbf{w}}_t)$$"
      ],
      "text/plain": [
       "<IPython.core.display.Math object>"
      ]
     },
     "execution_count": 9,
     "metadata": {},
     "output_type": "execute_result"
    }
   ],
   "source": [
    "from IPython.display import Math\n",
    "Math(r'\\mu_{pred} \\approx \\frac{1}{T}\\sum_{t=1}^T p(y^*|\\mathbf{x}^*, \\hat{\\mathbf{w}}_t)')"
   ]
  },
  {
   "cell_type": "code",
   "execution_count": 10,
   "metadata": {},
   "outputs": [],
   "source": [
    "mean_prob = y_prob_mc.mean(axis=0)        # prediction probabilities of shape [2005, 7]\n",
    "y_pred = mean_prob.argmax(axis=1)         # predicted class labels of shape [2005,]"
   ]
  },
  {
   "cell_type": "markdown",
   "metadata": {},
   "source": [
    "#### - Compute the uncertainty estimates (using predictive entropy)"
   ]
  },
  {
   "cell_type": "code",
   "execution_count": 11,
   "metadata": {},
   "outputs": [
    {
     "data": {
      "text/latex": [
       "$$H(\\mathbf{y^*\\mathbf{| \\mathbf{x}^*, \\mathcal{D}}}) = - \\sum_c p(y^*=c|\\mathbf{x}^*, \\mathcal{D})\\,\\text{log} \\, p(y^*=c|\\mathbf{x}^*, \\mathcal{D})$$"
      ],
      "text/plain": [
       "<IPython.core.display.Math object>"
      ]
     },
     "execution_count": 11,
     "metadata": {},
     "output_type": "execute_result"
    }
   ],
   "source": [
    "Math(r'H(\\mathbf{y^*\\mathbf{| \\mathbf{x}^*, \\mathcal{D}}}) = - \\sum_c p(y^*=c|\\mathbf{x}^*, \\mathcal{D})\\,\\text{log} \\, p(y^*=c|\\mathbf{x}^*, \\mathcal{D})')"
   ]
  },
  {
   "cell_type": "code",
   "execution_count": 12,
   "metadata": {},
   "outputs": [],
   "source": [
    "def predictive_entropy(prob):\n",
    "    \"\"\"\n",
    "    Entropy of the probabilities (to measure the epistemic uncertainty)\n",
    "    :param prob: probabilities of shape [batch_size, C]\n",
    "    :return: Entropy of shape [batch_size]\n",
    "    \"\"\"\n",
    "    eps = 1e-5\n",
    "    return -1 * np.sum(np.log(prob+eps) * prob, axis=1)\n",
    "\n",
    "\n",
    "H = predictive_entropy(mean_prob)\n",
    "\n",
    "# Let's normalize the uncertainty values (in range [0, 1])\n",
    "H_norm = (H - H.min()) / (H.max() - H.min())"
   ]
  },
  {
   "cell_type": "markdown",
   "metadata": {},
   "source": [
    "# 3. Analyze the Results"
   ]
  },
  {
   "cell_type": "markdown",
   "metadata": {},
   "source": [
    "## 3.1. Compare the prediction performance"
   ]
  },
  {
   "cell_type": "code",
   "execution_count": 13,
   "metadata": {},
   "outputs": [
    {
     "name": "stdout",
     "output_type": "stream",
     "text": [
      "Accuracy of Standart DenseNet-169 = 81.40%\n",
      "Accuracy of Bayesian DenseNet-169 = 82.09%\n"
     ]
    }
   ],
   "source": [
    "acc_reg = 1 - np.count_nonzero(np.not_equal(y_prob.argmax(axis=1), y_valid.argmax(axis=1))) / mean_prob.shape[0]\n",
    "acc_mc = 1 - np.count_nonzero(np.not_equal(mean_prob.argmax(axis=1), y_valid.argmax(axis=1))) / mean_prob.shape[0]\n",
    "print('Accuracy of Standart DenseNet-169 = {:.02%}'.format(acc_reg))\n",
    "print('Accuracy of Bayesian DenseNet-169 = {:.02%}'.format(acc_mc))"
   ]
  },
  {
   "cell_type": "markdown",
   "metadata": {},
   "source": [
    "## 3.2. Uncertainty of correct/incorrect predictions"
   ]
  },
  {
   "cell_type": "code",
   "execution_count": 14,
   "metadata": {},
   "outputs": [
    {
     "data": {
      "text/plain": [
       "<matplotlib.axes._subplots.AxesSubplot at 0x127d692e8>"
      ]
     },
     "execution_count": 14,
     "metadata": {},
     "output_type": "execute_result"
    },
    {
     "data": {
      "image/png": "[encoded data removed]",
      "text/plain": [
       "<matplotlib.figure.Figure at 0x127e784e0>"
      ]
     },
     "metadata": {},
     "output_type": "display_data"
    }
   ],
   "source": [
    "sns.kdeplot(H_norm[y_valid.argmax(axis=1) == y_pred], shade=True, color='forestgreen')\n",
    "sns.kdeplot(H_norm[y_valid.argmax(axis=1) != y_pred], shade=True, color='tomato')"
   ]
  },
  {
   "cell_type": "markdown",
   "metadata": {},
   "source": [
    "### This shows that the model is generally less confident when predictions are incorrect. \n",
    "\n",
    "### Now let's look at some of the predictions and the estimated uncertainty values:\n",
    "(figure from the original paper)\n",
    "\n",
    "<img src=\"imgs/fig5.PNG\" width=\"800\" height=\"100\" >\n"
   ]
  },
  {
   "cell_type": "markdown",
   "metadata": {},
   "source": [
    "## 3.3. Uncertainty-Aware Skin Lesion Referral\n",
    "\n",
    "\n",
    "### 3.3.1. Accuracy as a function of tolerated uncertainty"
   ]
  },
  {
   "cell_type": "code",
   "execution_count": 15,
   "metadata": {},
   "outputs": [
    {
     "data": {
      "image/png": "[encoded data removed]",
      "text/plain": [
       "<matplotlib.figure.Figure at 0x127e78358>"
      ]
     },
     "metadata": {},
     "output_type": "display_data"
    }
   ],
   "source": [
    "num_intervals = 20\n",
    "normalized_uncertainty_toleration_removal(y_valid.argmax(axis=1), y_pred, H_norm, num_intervals)\n"
   ]
  },
  {
   "cell_type": "markdown",
   "metadata": {},
   "source": [
    "### 3.3.2. Accuracy as a function of fraction of referrals"
   ]
  },
  {
   "cell_type": "code",
   "execution_count": 16,
   "metadata": {},
   "outputs": [
    {
     "data": {
      "image/png": "[encoded data removed]",
      "text/plain": [
       "<matplotlib.figure.Figure at 0x127e78400>"
      ]
     },
     "metadata": {},
     "output_type": "display_data"
    }
   ],
   "source": [
    "reps_for_random = 40\n",
    "num_fractions = 20\n",
    "uncertainty_fraction_removal(y_valid.argmax(axis=1), y_pred, H_norm, num_fractions, reps_for_random)"
   ]
  },
  {
   "cell_type": "code",
   "execution_count": null,
   "metadata": {},
   "outputs": [],
   "source": []
  }
 ],
 "metadata": {
  "kernelspec": {
   "display_name": "Python 3",
   "language": "python",
   "name": "python3"
  },
  "language_info": {
   "codemirror_mode": {
    "name": "ipython",
    "version": 3
   },
   "file_extension": ".py",
   "mimetype": "text/x-python",
   "name": "python",
   "nbconvert_exporter": "python",
   "pygments_lexer": "ipython3",
   "version": "3.6.3"
  }
 },
 "nbformat": 4,
 "nbformat_minor": 2
}
